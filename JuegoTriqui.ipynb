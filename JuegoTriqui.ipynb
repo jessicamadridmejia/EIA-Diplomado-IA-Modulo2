{
  "nbformat": 4,
  "nbformat_minor": 0,
  "metadata": {
    "colab": {
      "name": "JuegoTriqui.ipynb",
      "version": "0.3.2",
      "provenance": [],
      "collapsed_sections": [],
      "include_colab_link": true
    },
    "kernelspec": {
      "name": "python3",
      "display_name": "Python 3"
    },
    "accelerator": "GPU"
  },
  "cells": [
    {
      "cell_type": "markdown",
      "metadata": {
        "id": "view-in-github",
        "colab_type": "text"
      },
      "source": [
        "<a href=\"https://colab.research.google.com/github/jessicamadridmejia/EIA-Diplomado-IA-Modulo2/blob/master/JuegoTriqui.ipynb\" target=\"_parent\"><img src=\"https://colab.research.google.com/assets/colab-badge.svg\" alt=\"Open In Colab\"/></a>"
      ]
    },
    {
      "cell_type": "markdown",
      "metadata": {
        "id": "oYTzw84e0n2K",
        "colab_type": "text"
      },
      "source": [
        "1. Representación de un estado del juego: Para representar el estado actual del juego, podemos utilizar una matriz 3x3 de tipo String. En cada posición de la matriz puede haber una \"X\" o una \"O\" o vació \"\" indicando que no se ha puesto una ficha en dicha posición."
      ]
    },
    {
      "cell_type": "code",
      "metadata": {
        "id": "aCr5pO7n0mtQ",
        "colab_type": "code",
        "outputId": "85da1003-490c-4aef-8595-152409477b89",
        "colab": {
          "base_uri": "https://localhost:8080/",
          "height": 34
        }
      },
      "source": [
        "\"\"\"\n",
        "estado_inicial = [[\"\",\"\",\"\"],\n",
        "                  [\"\",\"\",\"\"],\n",
        "                  [\"\",\"\",\"\"]]\n",
        "\n",
        "estado_ejemplo = [[\"X\",\"\",\"\"],\n",
        "                  [\"O\",\"O\",\"\"],\n",
        "                  [\"X\",\"\",\"\"]]\n",
        "             \"\"\""
      ],
      "execution_count": 0,
      "outputs": [
        {
          "output_type": "execute_result",
          "data": {
            "text/plain": [
              "'\\nestado_inicial = [[\"\",\"\",\"\"],\\n                  [\"\",\"\",\"\"],\\n                  [\"\",\"\",\"\"]]\\n\\nestado_ejemplo = [[\"X\",\"\",\"\"],\\n                  [\"O\",\"O\",\"\"],\\n                  [\"X\",\"\",\"\"]]\\n             '"
            ]
          },
          "metadata": {
            "tags": []
          },
          "execution_count": 1
        }
      ]
    },
    {
      "cell_type": "markdown",
      "metadata": {
        "id": "dsw6nNhD0Rr6",
        "colab_type": "text"
      },
      "source": [
        "2. Crear un método o función que reciba un estado del juego y determine si dicho estado es un estado terminal. Si se trata de un estado terminal, también debe indicar quién es el ganador del juego o si se trata de un empate."
      ]
    },
    {
      "cell_type": "code",
      "metadata": {
        "id": "HUYhFlkajubd",
        "colab_type": "code",
        "outputId": "86bb5cfc-f9ac-49b4-d34d-d3073623bc42",
        "colab": {
          "base_uri": "https://localhost:8080/",
          "height": 54
        }
      },
      "source": [
        "\"\"\"def test_terminal(estado):\n",
        "  #Horizontal y vertical\n",
        "  for i in range(3):\n",
        "    if (estado[i][0] == estado[i][1] == estado[i][2]) and (estado[i][0] != \"\"):\n",
        "      return estado[i][0]\n",
        "    if (estado[0][i] == estado[1][i] == estado[2][i]) and (estado[0][i] != \"\"):\n",
        "      return estado[0][i]\n",
        "    \n",
        "  #Diagonales\n",
        "  if (estado[0][0] == estado[1][1] == estado[2][2]) and (estado[0][0] != \"\"):\n",
        "    return estado[1][1]\n",
        "  \n",
        "  if (estado[0][2] == estado[1][1] == estado[2][0]) and (estado[2][0] != \"\"):\n",
        "    return estado[1][1]\n",
        "  \n",
        "  # Determinar si es empate o no es estado terminal\n",
        "  for i in range(3):\n",
        "    for j in range(3):\n",
        "      if estado[i][j] == \"\":\n",
        "        return \"\"\n",
        "  \n",
        "  return \"empate\"\n",
        "\n",
        "\n",
        "estado = [[\"O\",\"X\",\"X\"],\n",
        "          [\"X\",\"X\",\"O\"],\n",
        "          [\"O\",\"X\",\"O\"]]\n",
        "\n",
        "print(\"A\")\n",
        "print(test_terminal(estado))\"\"\""
      ],
      "execution_count": 0,
      "outputs": [
        {
          "output_type": "execute_result",
          "data": {
            "text/plain": [
              "'def test_terminal(estado):\\n  #Horizontal y vertical\\n  for i in range(3):\\n    if (estado[i][0] == estado[i][1] == estado[i][2]) and (estado[i][0] != \"\"):\\n      return estado[i][0]\\n    if (estado[0][i] == estado[1][i] == estado[2][i]) and (estado[0][i] != \"\"):\\n      return estado[0][i]\\n    \\n  #Diagonales\\n  if (estado[0][0] == estado[1][1] == estado[2][2]) and (estado[0][0] != \"\"):\\n    return estado[1][1]\\n  \\n  if (estado[0][2] == estado[1][1] == estado[2][0]) and (estado[2][0] != \"\"):\\n    return estado[1][1]\\n  \\n  # Determinar si es empate o no es estado terminal\\n  for i in range(3):\\n    for j in range(3):\\n      if estado[i][j] == \"\":\\n        return \"\"\\n  \\n  return \"empate\"\\n\\n\\nestado = [[\"O\",\"X\",\"X\"],\\n          [\"X\",\"X\",\"O\"],\\n          [\"O\",\"X\",\"O\"]]\\n\\nprint(\"A\")\\nprint(test_terminal(estado))'"
            ]
          },
          "metadata": {
            "tags": []
          },
          "execution_count": 2
        }
      ]
    },
    {
      "cell_type": "code",
      "metadata": {
        "id": "mxlNvICvJjIw",
        "colab_type": "code",
        "outputId": "6d10d59f-73d3-481a-da3f-664eae144d8e",
        "colab": {
          "base_uri": "https://localhost:8080/",
          "height": 54
        }
      },
      "source": [
        "\"\"\"def obtener_utilidad(esMax,profundidad):\n",
        "  if esMax is not None:\n",
        "    if esMax:\n",
        "      utilidad = 100 + profundidad\n",
        "    else:\n",
        "      utilidad = -100 - profundidad\n",
        "  else:\n",
        "    utilidad = 0\n",
        "    \n",
        "  return utilidad\n",
        "\n",
        "print(obtener_utilidad(None,6))\"\"\""
      ],
      "execution_count": 0,
      "outputs": [
        {
          "output_type": "execute_result",
          "data": {
            "text/plain": [
              "'def obtener_utilidad(esMax,profundidad):\\n  if esMax is not None:\\n    if esMax:\\n      utilidad = 100 + profundidad\\n    else:\\n      utilidad = -100 - profundidad\\n  else:\\n    utilidad = 0\\n    \\n  return utilidad\\n\\nprint(obtener_utilidad(None,6))'"
            ]
          },
          "metadata": {
            "tags": []
          },
          "execution_count": 3
        }
      ]
    },
    {
      "cell_type": "markdown",
      "metadata": {
        "id": "7Z7zLG1lmoMD",
        "colab_type": "text"
      },
      "source": [
        "Juego Terminado\n",
        "\n",
        "\n",
        "---\n",
        "\n",
        "A continuación encontrarán el código del juego terminado. El juego cuenta con las siguientes clases:\n",
        "\n",
        "\n",
        "*   **JugadorMinimax:** Representa al jugador virtual que juega utilizando el algoritmo minimax.\n",
        "*   **JugadorHumano:** Representa al jugador humano que ingresa sus movimientos por consola. \n",
        "*   **Juego:** Encapsula a los dos jugadores. Tiene la lógica de los turnos.\n",
        "*   **Nodo:** Representa un nodo en el árbol minimax. Tiene implementado el algoritmo minimax con optimización alpha-beta\n",
        "\n"
      ]
    },
    {
      "cell_type": "code",
      "metadata": {
        "id": "za5rdB2amoTr",
        "colab_type": "code",
        "outputId": "8f26f9d9-188a-4863-e25b-1a9bbb4157d9",
        "colab": {
          "base_uri": "https://localhost:8080/",
          "height": 816
        }
      },
      "source": [
        "import copy\n",
        "import math\n",
        "import random\n",
        "\n",
        "class JugadorMinimax:\n",
        "\n",
        "    def __init__(self, simbolo):\n",
        "        # Asignar el símbolo de min y max\n",
        "        self.simbolo_max = simbolo\n",
        "        if simbolo == \"X\":\n",
        "            self.simbolo_min = \"O\"\n",
        "        else:\n",
        "            self.simbolo_min = \"X\"\n",
        "\n",
        "    def jugar_turno(self, juego):\n",
        "        raiz = Nodo(juego.estado_actual,None,True,self.simbolo_max,juego,0)\n",
        "        raiz.minimax(-math.inf,math.inf)\n",
        "        return random.choice(raiz.hijos).estado\n",
        "\n",
        "\n",
        "class Nodo:\n",
        "    nodos = 1\n",
        "\n",
        "    def __init__(self, estado, padre, es_max,simbolo_max, juego, profundidad=0):\n",
        "        self.estado = estado\n",
        "        self.padre = padre\n",
        "        self.profundidad = profundidad\n",
        "        self.es_max = es_max\n",
        "        self.juego = juego\n",
        "        self.hijos = []\n",
        "\n",
        "        #Asignar símbolos\n",
        "        self.simbolo_max = simbolo_max\n",
        "        if simbolo_max == \"X\":\n",
        "            self.simbolo_min = \"O\"\n",
        "        else:\n",
        "            self.simbolo_min = \"X\"\n",
        "        if self.es_max:\n",
        "            self.simbolo = self.simbolo_max\n",
        "        else:\n",
        "            self.simbolo = self.simbolo_min\n",
        "\n",
        "    def determinar_utilidad(self, ganador):\n",
        "        utilidad = 0\n",
        "        if ganador != \"\":\n",
        "            if ganador == self.simbolo_max:\n",
        "                utilidad = 100\n",
        "            elif ganador == self.simbolo_min:\n",
        "                utilidad = -100\n",
        "            utilidad = utilidad + self.profundidad if self.es_max else utilidad - self.profundidad\n",
        "        return utilidad\n",
        "\n",
        "    # Retorna (puntaje,prune)\n",
        "    def minimax(self,alpha,beta):\n",
        "        ganador, terminal = self.juego.test_terminal(self.estado)\n",
        "        if terminal:\n",
        "            utilidad = self.determinar_utilidad(ganador)\n",
        "            return utilidad, False\n",
        "        else:  # Crear hijos\n",
        "            mejor_puntaje_hijo = -math.inf if self.es_max else math.inf  # Peor puntaje\n",
        "\n",
        "            for i in range(3):\n",
        "                for j in range(3):\n",
        "                    if self.estado[i][j] == \"\":\n",
        "                        # Crear hijo\n",
        "                        copia = copy.deepcopy(self.estado)\n",
        "                        copia[i][j] = self.simbolo\n",
        "                        hijo = Nodo(copia, self, not self.es_max,self.simbolo_max, self.juego, self.profundidad + 1)\n",
        "                        Nodo.nodos = Nodo.nodos + 1\n",
        "\n",
        "                        # Sacar puntaje del hijo\n",
        "                        puntaje_hijo, prune = hijo.minimax(alpha,beta)\n",
        "                        if prune:\n",
        "                            continue #ignorar hijo\n",
        "\n",
        "\n",
        "                        # Actualizar alpha beta\n",
        "                        if self.es_max:\n",
        "                            alpha = max(alpha,puntaje_hijo)\n",
        "                        else:\n",
        "                            beta = min(beta,puntaje_hijo)\n",
        "                        if alpha > beta:\n",
        "                            return 0, True\n",
        "\n",
        "\n",
        "                        if (self.es_max and puntaje_hijo > mejor_puntaje_hijo) or (\n",
        "                                (not self.es_max) and puntaje_hijo < mejor_puntaje_hijo):\n",
        "                            self.hijos.clear()\n",
        "                            self.hijos.append(hijo)\n",
        "                            mejor_puntaje_hijo = puntaje_hijo\n",
        "                        elif puntaje_hijo == mejor_puntaje_hijo:\n",
        "                            self.hijos.append(hijo)\n",
        "\n",
        "            return mejor_puntaje_hijo, False\n",
        "\n",
        "class JugadorHumano:\n",
        "\n",
        "    def __init__(self,simbolo):\n",
        "        self.simbolo = simbolo\n",
        "\n",
        "    #Retorna el nuevo estado\n",
        "    def jugar_turno(self, juego):\n",
        "        i = int(input(\"Ingrese la fila: \"))\n",
        "        j = int(input(\"Ingrese la columna: \"))\n",
        "\n",
        "        if juego.estado_actual[i][j] == \"\":\n",
        "            copia = copy.deepcopy(juego.estado_actual)\n",
        "            copia[i][j] = self.simbolo\n",
        "            return copia\n",
        "        else:\n",
        "            print(\"Err\")\n",
        "            return None\n",
        "\n",
        "\n",
        "class Juego:\n",
        "\n",
        "    def __init__(self, jugador1, jugador2):\n",
        "        self.jugador1 = jugador1\n",
        "        self.jugador2 = jugador2\n",
        "        self.estado_actual = [[\"\", \"\", \"\"],\n",
        "                              [\"\", \"\", \"\"],\n",
        "                              [\"\", \"\", \"\"]]\n",
        "\n",
        "    def empezar_juego(self):\n",
        "        terminal = False\n",
        "        turno1 = True\n",
        "        ganador = \"\"\n",
        "        while not terminal:\n",
        "            if turno1:\n",
        "                self.estado_actual = self.jugador1.jugar_turno(self)\n",
        "            else:\n",
        "                self.estado_actual = self.jugador2.jugar_turno(self)\n",
        "            self.print_estado(self.estado_actual)\n",
        "            #print(Nodo.nodos)\n",
        "            ganador, terminal = self.test_terminal(self.estado_actual)\n",
        "            turno1 = not turno1\n",
        "\n",
        "        if ganador == \"\":\n",
        "            print(\"Es un empate!\")\n",
        "        else:\n",
        "            print(\"El ganador es \" + ganador + \"!\")\n",
        "\n",
        "    def print_estado(self, estado):\n",
        "        for i in range(3):\n",
        "            linea = \"\"\n",
        "            for j in range(3):\n",
        "                if estado[i][j] != \"\":\n",
        "                    linea = linea + estado[i][j] + \" \"\n",
        "                else:\n",
        "                    linea = linea + \"- \"\n",
        "            print(linea)\n",
        "        print(\"-----\")\n",
        "\n",
        "    # Retorna (simboloGanador,esTerminal)\n",
        "    def test_terminal(self, estado):\n",
        "\n",
        "        # Verificar ganador en fila o columna\n",
        "        for i in range(3):\n",
        "            if estado[i][0] == estado[i][1] == estado[i][2] and estado[i][0] != \"\":\n",
        "                return estado[i][0], True\n",
        "            if estado[0][i] == estado[1][i] == estado[2][i] and estado[0][i] != \"\":\n",
        "                return estado[0][i], True\n",
        "\n",
        "        # Verificar ganador en diagonal\n",
        "        if estado[1][1] != \"\" and (\n",
        "                estado[0][0] == estado[1][1] == estado[2][2] or estado[0][2] == estado[1][1] == estado[2][0]):\n",
        "            return estado[1][1], True\n",
        "\n",
        "        # Verificar estado no terminal (juego continua)\n",
        "        for i in range(3):\n",
        "            for j in range(3):\n",
        "                if estado[i][j] == \"\":\n",
        "                    return \"\", False\n",
        "\n",
        "        # Empate (juego finalizado)\n",
        "        return \"\", True\n",
        "\n",
        "jugador1 = JugadorHumano(\"O\")\n",
        "jugador2 = JugadorMinimax(\"X\")\n",
        "juego = Juego(jugador1,jugador2)\n",
        "juego.empezar_juego()"
      ],
      "execution_count": 0,
      "outputs": [
        {
          "output_type": "stream",
          "text": [
            "Ingrese la fila: 0\n",
            "Ingrese la columna: 0\n",
            "O - - \n",
            "- - - \n",
            "- - - \n",
            "-----\n",
            "O - - \n",
            "- X - \n",
            "- - - \n",
            "-----\n",
            "Ingrese la fila: 2\n",
            "Ingrese la columna: 0\n",
            "O - - \n",
            "- X - \n",
            "O - - \n",
            "-----\n",
            "O - - \n",
            "X X - \n",
            "O - - \n",
            "-----\n",
            "Ingrese la fila: 1\n",
            "Ingrese la columna: 2\n",
            "O - - \n",
            "X X O \n",
            "O - - \n",
            "-----\n",
            "O X - \n",
            "X X O \n",
            "O - - \n",
            "-----\n",
            "Ingrese la fila: 2\n",
            "Ingrese la columna: 1\n",
            "O X - \n",
            "X X O \n",
            "O O - \n",
            "-----\n",
            "O X - \n",
            "X X O \n",
            "O O X \n",
            "-----\n",
            "Ingrese la fila: 0\n",
            "Ingrese la columna: 2\n",
            "O X O \n",
            "X X O \n",
            "O O X \n",
            "-----\n",
            "Es un empate!\n"
          ],
          "name": "stdout"
        }
      ]
    }
  ]
}